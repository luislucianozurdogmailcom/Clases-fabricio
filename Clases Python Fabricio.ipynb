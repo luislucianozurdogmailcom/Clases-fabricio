{
 "cells": [
  {
   "cell_type": "markdown",
   "id": "7f6e79c7",
   "metadata": {},
   "source": [
    "# Ejercicio 1: Detección de Palíndromos\n",
    "Enunciado:\n",
    "Escribí un programa que verifique si una palabra es un palíndromo. Una palabra es un palíndromo si se lee igual de izquierda a derecha que de derecha a izquierda.\n",
    "\n",
    "Restricción: No podés usar [::-1] ni .reverse().\n",
    "\n",
    "Entrada:\n",
    "Una palabra como string (sin espacios).\n",
    "\n",
    "Salida esperada:\n",
    "\"Es palíndromo\" o \"No es palíndromo\"."
   ]
  },
  {
   "cell_type": "code",
   "execution_count": 11,
   "id": "ffc189f5",
   "metadata": {},
   "outputs": [
    {
     "name": "stdout",
     "output_type": "stream",
     "text": [
      "No palindromo\n",
      "Palindromo\n"
     ]
    }
   ],
   "source": [
    "def es_palindromo(palabra):\n",
    "\n",
    "    # Esta es la variable que nos va a ayudar a guardar las letras\n",
    "    palabra_alreves = '';\n",
    "\n",
    "    for letra in palabra: # Estamos iterando letra a letra de nuestra palabra.\n",
    "    \n",
    "        palabra_alreves = letra + palabra_alreves;\n",
    "    \n",
    "    if palabra_alreves == palabra:\n",
    "        print('Palindromo')\n",
    "    else:\n",
    "        print('No palindromo')\n",
    "\n",
    "def main():\n",
    "    \n",
    "    # Inicializamos palabras\n",
    "    no_palindromo   = 'Argentina';\n",
    "    palindromo      = 'lalalal';\n",
    "    \n",
    "    # Probamos la función\n",
    "    es_palindromo(no_palindromo);\n",
    "    es_palindromo(palindromo);\n",
    "\n",
    "main();"
   ]
  },
  {
   "cell_type": "markdown",
   "id": "66412962",
   "metadata": {},
   "source": [
    "\n",
    "# Ejercicio 2: Ordenamiento manual\n",
    "Enunciado:\n",
    "Escribí un programa que ordene una lista de números enteros de menor a mayor utilizando únicamente estructuras de control (no .sort(), sorted(), ni nada similar).\n",
    "\n",
    "Sugerencia: Usá el algoritmo de bubble sort o selection sort.\n",
    "\n",
    "Entrada:\n",
    "Una lista como [3, 1, 4, 1, 5, 9, 2]\n",
    "\n",
    "Salida esperada:\n",
    "[1, 1, 2, 3, 4, 5, 9]\n",
    "\n"
   ]
  },
  {
   "cell_type": "code",
   "execution_count": 35,
   "id": "6a29d3a5",
   "metadata": {},
   "outputs": [
    {
     "name": "stdout",
     "output_type": "stream",
     "text": [
      "[1]\n",
      "[1, 1]\n",
      "[1, 1, 2]\n",
      "[1, 1, 2, 3]\n",
      "[1, 1, 2, 3, 4]\n",
      "[1, 1, 2, 3, 4, 5]\n",
      "[1, 1, 2, 3, 4, 5, 9]\n"
     ]
    }
   ],
   "source": [
    "array       = [3, 1, 4, 1, 5, 9, 2];\n",
    "lista_vacia = [];\n",
    "\n",
    "largo_lista = len(array);\n",
    "\n",
    "for i in range(largo_lista):\n",
    "\n",
    "    # Esto cuenta vueltas\n",
    "    iterador               = 0;\n",
    "    iterador_numero_minimo = 0;\n",
    "    variable_minimo        = 10000000;\n",
    "\n",
    "    for numero in array:\n",
    "    \n",
    "        if variable_minimo > numero:\n",
    "        \n",
    "            variable_minimo        = numero;\n",
    "            iterador_numero_minimo = iterador;\n",
    "    \n",
    "        # Iterador para conocer la posición del numero del array.\n",
    "        iterador = iterador + 1;\n",
    "\n",
    "\n",
    "    lista_vacia.append(variable_minimo);\n",
    "\n",
    "    array.pop(iterador_numero_minimo);\n",
    "\n",
    "    print(lista_vacia)"
   ]
  },
  {
   "cell_type": "code",
   "execution_count": 32,
   "id": "34795c3e",
   "metadata": {},
   "outputs": [
    {
     "name": "stdout",
     "output_type": "stream",
     "text": [
      "[2, 3, 4]\n"
     ]
    }
   ],
   "source": [
    "lista = [1,2,3,4]\n",
    "\n",
    "lista.pop(1)\n",
    "\n",
    "print(lista)"
   ]
  },
  {
   "cell_type": "markdown",
   "id": "713dea67",
   "metadata": {},
   "source": [
    "# Ejercicio 3: Contador de Frecuencias\n",
    "<!-- Enunciado: -->\n",
    "Dado un texto (una sola línea), escribí un programa que cuente cuántas veces aparece cada letra (ignorando mayúsculas/minúsculas y sin contar espacios).\n",
    "\n",
    "Restricción: No usar .count().\n",
    "\n",
    "Entrada:\n",
    "\"Hola Mundo\"\n",
    "\n",
    "Salida esperada:\n",
    "\n",
    "h: 1  \n",
    "o: 2  \n",
    "l: 1  \n",
    "a: 1  \n",
    "m: 1  \n",
    "u: 1  \n",
    "n: 1  \n",
    "d: 1"
   ]
  },
  {
   "cell_type": "markdown",
   "id": "bedaf884",
   "metadata": {},
   "source": [
    "# Ejercicio 4: Subcadena en Cadena\n",
    "Enunciado:\n",
    "Implementá una función que reciba dos strings: una cadena principal y una subcadena. El programa debe determinar si la subcadena aparece dentro de la cadena principal y, si aparece, retornar el índice donde comienza la primera aparición.\n",
    "\n",
    "Restricción: No usar .find(), .index(), ni operadores como in.\n",
    "\n",
    "Entrada:\n",
    "Cadena: \"abracadabra\"\n",
    "Subcadena: \"cada\"\n",
    "\n",
    "Salida esperada:\n",
    "4\n",
    "(Si no aparece, retornar -1)"
   ]
  },
  {
   "cell_type": "markdown",
   "id": "aecdd04b",
   "metadata": {},
   "source": []
  }
 ],
 "metadata": {
  "kernelspec": {
   "display_name": "Python 3 (ipykernel)",
   "language": "python",
   "name": "python3"
  },
  "language_info": {
   "codemirror_mode": {
    "name": "ipython",
    "version": 3
   },
   "file_extension": ".py",
   "mimetype": "text/x-python",
   "name": "python",
   "nbconvert_exporter": "python",
   "pygments_lexer": "ipython3",
   "version": "3.10.9"
  }
 },
 "nbformat": 4,
 "nbformat_minor": 5
}
