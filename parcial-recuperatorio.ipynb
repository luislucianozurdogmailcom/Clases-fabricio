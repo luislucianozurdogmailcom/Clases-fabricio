{
 "cells": [
  {
   "cell_type": "markdown",
   "id": "4724c2c2-79be-4b1c-b0b5-b14f221fa59f",
   "metadata": {},
   "source": [
    "cantidad de letras impar\n",
    "\n",
    "cantidad de vocales mayor que las consonantes\n",
    "\n",
    "retornar todas las palabras en un string"
   ]
  },
  {
   "cell_type": "code",
   "execution_count": 62,
   "id": "52d2b863-4fdd-4b50-bee4-bb071da9bae7",
   "metadata": {},
   "outputs": [],
   "source": [
    "def busca_palabras(texto):\n",
    "    '''\n",
    "    Función que busca las palabras en donde la cantidad\n",
    "    de letras es impar y ademas la cantidad de sus vocales\n",
    "    son mayores que la cantidad de sus consonantes.\n",
    "    '''\n",
    "    variable_iteradora = 0;\n",
    "    letra_anterior     = '';\n",
    "    letra_auxiliar     = ''; # Letra que siempre será minuscula\n",
    "    bandera_es_palabra = False;\n",
    "    contar_letras      = 0;\n",
    "    contar_vocales     = 0;\n",
    "    palabra_auxiliar   = '';\n",
    "    bandera_es_impar   = False; # Si la cantidad de letras de la palabra son impares\n",
    "    bandera_vocales    = False; # Si la cantidad de vocales es mayor que de consonantes\n",
    "    resultado          = '';\n",
    "    \n",
    "    \n",
    "    for letra in texto:\n",
    "        letra_auxiliar = letra.lower();\n",
    "        \n",
    "        # Identificar si el texto empieza con una palabra\n",
    "        \n",
    "        if variable_iteradora == 0 and letra_auxiliar not in (' #_!\"#$%&/)=?¡¿-,.123456789'):\n",
    "            bandera_es_palabra = True;\n",
    "        \n",
    "        # Identificar si comienza una palabra nueva\n",
    "        if letra_auxiliar not in (' #_!\"#$%&/)=?¡¿-,.123456789') and letra_anterior in (' #_!\"#$%&/)=?¡¿-,.123456789'):\n",
    "            bandera_es_palabra = True;\n",
    "\n",
    "        \n",
    "        # Identificar si termina una palabra:\n",
    "        if (letra_auxiliar in (' #_!\"#$%&/)=?¡¿-,.123456789') and letra_anterior not in (' #_!\"#$%&/)=?¡¿-,.123456789')):\n",
    "            bandera_es_palabra = False;\n",
    "\n",
    "        \n",
    "        # Contamos las letras de la palabra:\n",
    "        if bandera_es_palabra:\n",
    "            contar_letras    += 1;\n",
    "            palabra_auxiliar += letra;\n",
    "            \n",
    "            if letra_auxiliar in 'aeiou':\n",
    "                contar_vocales += 1;\n",
    "\n",
    "        else: # Entramos solo cuando terminó una palabra\n",
    "            \n",
    "            # Condiciones que el problema pide\n",
    "            if contar_letras % 2 != 0:\n",
    "                bandera_es_impar = True;\n",
    "                \n",
    "            if contar_vocales > (len(palabra_auxiliar) - contar_vocales): \n",
    "                bandera_vocales = True;\n",
    "            \n",
    "            \n",
    "            # Guardamos la palabra que cumple la condición.\n",
    "            if bandera_es_impar and bandera_vocales:\n",
    "                resultado += palabra_auxiliar + ' ';\n",
    "                \n",
    "            # Reseteamos variables de control\n",
    "            contar_letras    = 0;\n",
    "            palabra_auxiliar = '';\n",
    "            contar_vocales   = 0;\n",
    "            bandera_es_impar = False;\n",
    "            bandera_vocales  = False;\n",
    "        \n",
    "        # Esto es para el caso de la última letra\n",
    "        if letra_auxiliar != ' ' and len(texto) - 1 == variable_iteradora:\n",
    "            # Condiciones que el problema pide\n",
    "            if contar_letras % 2 != 0:\n",
    "                bandera_es_impar = True;\n",
    "                \n",
    "            if contar_vocales > (len(palabra_auxiliar) - contar_vocales): \n",
    "                bandera_vocales = True;\n",
    "                \n",
    "            # Guardamos la palabra que cumple la condición.\n",
    "            if bandera_es_impar and bandera_vocales:\n",
    "                \n",
    "                resultado += palabra_auxiliar + ' ';\n",
    "                \n",
    "            # Reseteamos variables de control\n",
    "            contar_letras    = 0;\n",
    "            palabra_auxiliar = '';\n",
    "            contar_vocales   = 0;\n",
    "            bandera_es_impar = False;\n",
    "            bandera_vocales  = False;\n",
    "        \n",
    "        letra_anterior      = letra;\n",
    "        variable_iteradora += 1; \n",
    "    \n",
    "    return resultado;"
   ]
  },
  {
   "cell_type": "code",
   "execution_count": 64,
   "id": "0a40c13e-8d13-4fa4-9b2c-24f98238bfc5",
   "metadata": {},
   "outputs": [
    {
     "data": {
      "text/plain": [
       "'A '"
      ]
     },
     "execution_count": 64,
     "metadata": {},
     "output_type": "execute_result"
    }
   ],
   "source": [
    "busca_palabras('A-AB-ZZ-ZZZ')"
   ]
  }
 ],
 "metadata": {
  "kernelspec": {
   "display_name": "Python 3 (ipykernel)",
   "language": "python",
   "name": "python3"
  },
  "language_info": {
   "codemirror_mode": {
    "name": "ipython",
    "version": 3
   },
   "file_extension": ".py",
   "mimetype": "text/x-python",
   "name": "python",
   "nbconvert_exporter": "python",
   "pygments_lexer": "ipython3",
   "version": "3.10.9"
  }
 },
 "nbformat": 4,
 "nbformat_minor": 5
}
